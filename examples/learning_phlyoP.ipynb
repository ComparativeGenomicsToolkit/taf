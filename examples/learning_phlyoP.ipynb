{
 "cells": [
  {
   "cell_type": "code",
   "execution_count": 4,
   "metadata": {},
   "outputs": [],
   "source": [
    "# Load necessary dependencies\n",
    "import os\n",
    "import taffy\n",
    "import torch\n",
    "from torch.utils.data import DataLoader"
   ]
  },
  {
   "cell_type": "code",
   "execution_count": 3,
   "metadata": {},
   "outputs": [
    {
     "name": "stdout",
     "output_type": "stream",
     "text": [
      "Using mps device\n"
     ]
    }
   ],
   "source": [
    "# Decide what kind of architecture we're running on\n",
    "device = (  \n",
    "    \"cuda\"\n",
    "    if torch.cuda.is_available()\n",
    "    else \"mps\"\n",
    "    if torch.backends.mps.is_available()\n",
    "    else \"cpu\"\n",
    ")\n",
    "print(f\"Using {device} device\")"
   ]
  },
  {
   "cell_type": "code",
   "execution_count": 15,
   "metadata": {
    "collapsed": false,
    "jupyter": {
     "outputs_hidden": false
    },
    "pycharm": {
     "name": "#%%\n"
    }
   },
   "outputs": [
    {
     "name": "stdout",
     "output_type": "stream",
     "text": [
      "+../tests/447-way/example_norm.sh:13> tree_file=/Users/benedictpaten/CLionProjects/taffy/examples/..//tests/447-way/447-mammalian-2022v1.nh \n",
      "+../tests/447-way/example_norm.sh:16> rerooted_tree_file=/Users/benedictpaten/CLionProjects/taffy/examples/..//tests/447-way/447-mammalian-2022v1.rerooted.nh \n",
      "+../tests/447-way/example_norm.sh:19> wig_file=/Users/benedictpaten/CLionProjects/taffy/examples/..//tests/447-way/447-mammalian-2022v1_hg38_chr22_22000000_22100000.phyloP.wig \n",
      "+../tests/447-way/example_norm.sh:22> alignment_file=/Users/benedictpaten/CLionProjects/taffy/examples/..//tests/447-way/447-mammalian-2022v1_hg38_chr22_22000000_22100000.anc.norm.taf.gz \n",
      "+../tests/447-way/example_norm.sh:25> rearranged_alignment_file=/Users/benedictpaten/CLionProjects/taffy/examples/..//tests/447-way/447-mammalian-2022v1_chr22_22000000_22100000.rearranged.taf.gz \n",
      "+../tests/447-way/example_norm.sh:28> final_alignment_file=/Users/benedictpaten/CLionProjects/taffy/examples/..//tests/447-way/447-mammalian-2022v1_chr22_22000000_22100000.final.taf.gz \n",
      "+../tests/447-way/example_norm.sh:31> sort_file=/Users/benedictpaten/CLionProjects/taffy/examples/..//tests/447-way/447-sort.txt \n",
      "+../tests/447-way/example_norm.sh:34> filter_file=/Users/benedictpaten/CLionProjects/taffy/examples/..//tests/447-way/447-filter.txt \n",
      "+../tests/447-way/example_norm.sh:37> ref=hg38 \n",
      "+../tests/447-way/example_norm.sh:40> /Users/benedictpaten/CLionProjects/taffy/examples/..//scripts/manipulate_tree.py --reroot hg38 --out_file /Users/benedictpaten/CLionProjects/taffy/examples/..//tests/447-way/447-mammalian-2022v1.rerooted.nh /Users/benedictpaten/CLionProjects/taffy/examples/..//tests/447-way/447-mammalian-2022v1.nh\n",
      "${taffy_root}/scripts/manipulate_tree.py --reroot $ref --out_file  $tree_file  0.02s user 0.01s system 89% cpu 0.031 total\n",
      "+../tests/447-way/example_norm.sh:43> /Users/benedictpaten/CLionProjects/taffy/examples/..//scripts/tree_to_sort_file.py --traversal pre --reroot hg38 --out_file /Users/benedictpaten/CLionProjects/taffy/examples/..//tests/447-way/447-sort.txt --suffix_to_append_to_labels . /Users/benedictpaten/CLionProjects/taffy/examples/..//tests/447-way/447-mammalian-2022v1.nh\n",
      "wooooo .\n",
      "${taffy_root}/scripts/tree_to_sort_file.py --traversal pre --reroot $ref    .  0.05s user 0.01s system 93% cpu 0.063 total\n",
      "+../tests/447-way/example_norm.sh:46> /Users/benedictpaten/CLionProjects/taffy/examples/..//scripts/tree_to_sort_file.py --out_file /Users/benedictpaten/CLionProjects/taffy/examples/..//tests/447-way/447-filter.txt --no_leaf_nodes --suffix_to_append_to_labels . /Users/benedictpaten/CLionProjects/taffy/examples/..//tests/447-way/447-mammalian-2022v1.nh\n",
      "wooooo .\n",
      "${taffy_root}/scripts/tree_to_sort_file.py --out_file $filter_file   .   0.03s user 0.01s system 93% cpu 0.035 total\n",
      "+../tests/447-way/example_norm.sh:49> /Users/benedictpaten/CLionProjects/taffy/examples/..//bin/taffy sort -i /Users/benedictpaten/CLionProjects/taffy/examples/..//tests/447-way/447-mammalian-2022v1_hg38_chr22_22000000_22100000.anc.norm.taf.gz -n /Users/benedictpaten/CLionProjects/taffy/examples/..//tests/447-way/447-sort.txt -p /Users/benedictpaten/CLionProjects/taffy/examples/..//tests/447-way/447-sort.txt -d /Users/benedictpaten/CLionProjects/taffy/examples/..//tests/447-way/447-sort.txt --logLevel DEBUG\n",
      "+../tests/447-way/example_norm.sh:49> ../bin/taffy view -t /Users/benedictpaten/CLionProjects/taffy/examples/..//tests/447-way/447-mammalian-2022v1.rerooted.nh -b -c --runLengthEncodeBases\n",
      "Input file string : /Users/benedictpaten/CLionProjects/taffy/examples/..//tests/447-way/447-mammalian-2022v1_hg38_chr22_22000000_22100000.anc.norm.taf.gz\n",
      "Output file string : (null)\n",
      "Sort file string : /Users/benedictpaten/CLionProjects/taffy/examples/..//tests/447-way/447-sort.txt\n",
      "Filter file string : (null)\n",
      "Pad file string : /Users/benedictpaten/CLionProjects/taffy/examples/..//tests/447-way/447-sort.txt\n",
      "Dup filter file string : /Users/benedictpaten/CLionProjects/taffy/examples/..//tests/447-way/447-sort.txt\n",
      "Ignore first row : True\n",
      "Loaded the sort/filter file, got 892 rows\n",
      "Loaded the sort/filter file, got 892 rows\n",
      "Loaded the sort/filter file, got 892 rows\n",
      "taffy sort is done, 77 seconds have elapsed\n",
      "${taffy_root}/bin/taffy sort -i $alignment_file -n $sort_file -p $sort_file -  73.26s user 2.57s system 98% cpu 1:16.75 total\n",
      "../bin/taffy view -t $rerooted_tree_file -b -c --runLengthEncodeBases >   6.20s user 0.14s system 8% cpu 1:16.76 total\n",
      "+../tests/447-way/example_norm.sh:52> /Users/benedictpaten/CLionProjects/taffy/examples/..//bin/taffy annotate -i /Users/benedictpaten/CLionProjects/taffy/examples/..//tests/447-way/447-mammalian-2022v1_chr22_22000000_22100000.rearranged.taf.gz -w /Users/benedictpaten/CLionProjects/taffy/examples/..//tests/447-way/447-mammalian-2022v1_hg38_chr22_22000000_22100000.phyloP.wig --tagName phyloP --refPrefix hg38. -c\n",
      "${taffy_root}/bin/taffy annotate -i $rearranged_alignment_file -w $wig_file    5.27s user 0.04s system 99% cpu 5.346 total\n",
      "+../tests/447-way/example_norm.sh:56> echo 'Starting alignment'\n",
      "Starting alignment\n",
      "+../tests/447-way/example_norm.sh:57> /Users/benedictpaten/CLionProjects/taffy/examples/..//bin/taffy stats -i /Users/benedictpaten/CLionProjects/taffy/examples/..//tests/447-way/447-mammalian-2022v1_hg38_chr22_22000000_22100000.anc.norm.taf.gz -a\n",
      "Total blocks:\t3166\n",
      "Total columns:\t215664\n",
      "Avg. columns/block:\t68.118759\n",
      "Total bases:\t67026589\n",
      "Total gaps:\t226206389\n",
      "Avg. column depth:\t1359.675171\n",
      "Avg. bases/column:\t310.791718\n",
      "Avg. gaps/column:\t1048.883423\n",
      "${taffy_root}/bin/taffy stats -i $alignment_file -a  9.05s user 0.08s system 99% cpu 9.219 total\n",
      "+../tests/447-way/example_norm.sh:59> echo 'Final alignment'\n",
      "Final alignment\n",
      "+../tests/447-way/example_norm.sh:60> /Users/benedictpaten/CLionProjects/taffy/examples/..//bin/taffy stats -i /Users/benedictpaten/CLionProjects/taffy/examples/..//tests/447-way/447-mammalian-2022v1_chr22_22000000_22100000.final.taf.gz -a\n",
      "Total blocks:\t3166\n",
      "Total columns:\t215664\n",
      "Avg. columns/block:\t68.118759\n",
      "Total bases:\t25013474\n",
      "Total gaps:\t167358814\n",
      "Avg. column depth:\t892.000000\n",
      "Avg. bases/column:\t115.983536\n",
      "Avg. gaps/column:\t776.016479\n",
      "${taffy_root}/bin/taffy stats -i $final_alignment_file -a  1.83s user 0.02s system 99% cpu 1.869 total\n"
     ]
    }
   ],
   "source": [
    "# Run shell script to normalize alignment and annotate with wig (comment this out if already run)\n",
    "!../tests/447-way/example_norm.sh `pwd`/../"
   ]
  },
  {
   "cell_type": "code",
   "execution_count": 19,
   "metadata": {},
   "outputs": [
    {
     "name": "stdout",
     "output_type": "stream",
     "text": [
      "The alignment file to use: /Users/benedictpaten/CLionProjects/taffy/examples/../tests/447-way/447-mammalian-2022v1_hg38_chr22_22000000_22100000.anc.norm.taf.gz\n"
     ]
    }
   ],
   "source": [
    "# Annotated alignment file\n",
    "alignment_file = os.path.join(os.getcwd(), \"../tests/447-way/447-mammalian-2022v1_hg38_chr22_22000000_22100000.anc.norm.taf.gz\")\n",
    "print(f\"The alignment file to use: {alignment_file}\")"
   ]
  },
  {
   "cell_type": "code",
   "execution_count": null,
   "metadata": {},
   "outputs": [],
   "source": [
    "# Make a taf index\n",
    "taffy.TafIndex("
   ]
  },
  {
   "cell_type": "code",
   "execution_count": null,
   "metadata": {},
   "outputs": [],
   "source": [
    "# Get the names of the sequences in the alignment"
   ]
  },
  {
   "cell_type": "code",
   "execution_count": null,
   "metadata": {},
   "outputs": [],
   "source": [
    "# Create a DataLoader for the alignment\n",
    "alignment_iterator = DataLoader(taffy.ml.TorchDatasetAlignmentIterator(alignment_file, taf_index_file=index_file, is_maf=False,\n",
    "                                                                       sequence_intervals=sequence_intervals, include_non_ref_columns=False,\n",
    "                                                                       include_sequence_names=False, include_column_tags=True), num_workers=1)"
   ]
  },
  {
   "cell_type": "code",
   "execution_count": null,
   "metadata": {},
   "outputs": [],
   "source": [
    "# Create a v. basic NN model\n",
    "\n",
    "class NeuralNetwork(nn.Module):\n",
    "    def __init__(self):\n",
    "        super().__init__()\n",
    "        self.flatten = nn.Flatten()\n",
    "        self.linear_relu_stack = nn.Sequential(\n",
    "            nn.Linear(28*28, 512),\n",
    "            nn.ReLU(),\n",
    "            nn.Linear(512, 512),\n",
    "            nn.ReLU(),\n",
    "            nn.Linear(512, 10),\n",
    "        )\n",
    "\n",
    "    def forward(self, x):\n",
    "        x = self.flatten(x)\n",
    "        logits = self.linear_relu_stack(x)\n",
    "        return logits"
   ]
  },
  {
   "cell_type": "code",
   "execution_count": null,
   "metadata": {},
   "outputs": [],
   "source": [
    "# Now do the training"
   ]
  },
  {
   "cell_type": "code",
   "execution_count": null,
   "metadata": {},
   "outputs": [],
   "source": [
    "# And finally test!"
   ]
  },
  {
   "cell_type": "code",
   "execution_count": null,
   "metadata": {},
   "outputs": [],
   "source": []
  }
 ],
 "metadata": {
  "kernelspec": {
   "display_name": "Python 3 (ipykernel)",
   "language": "python",
   "name": "python3"
  },
  "language_info": {
   "codemirror_mode": {
    "name": "ipython",
    "version": 3
   },
   "file_extension": ".py",
   "mimetype": "text/x-python",
   "name": "python",
   "nbconvert_exporter": "python",
   "pygments_lexer": "ipython3",
   "version": "3.9.16"
  }
 },
 "nbformat": 4,
 "nbformat_minor": 4
}
